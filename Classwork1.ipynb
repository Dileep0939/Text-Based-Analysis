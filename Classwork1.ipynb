{
 "cells": [
  {
   "cell_type": "markdown",
   "id": "dbc5731a",
   "metadata": {},
   "source": [
    "# Assigning and Printing a String"
   ]
  },
  {
   "cell_type": "code",
   "execution_count": 1,
   "id": "ac06dec7",
   "metadata": {
    "scrolled": true,
    "tags": []
   },
   "outputs": [
    {
     "name": "stdout",
     "output_type": "stream",
     "text": [
      "hello\n"
     ]
    }
   ],
   "source": [
    "# Assigning the string \"hello\" to variable 'a'\n",
    "a = \"hello\"\n",
    "# Printing the value of 'a'\n",
    "print(a)"
   ]
  },
  {
   "cell_type": "markdown",
   "id": "1e9fdbf1",
   "metadata": {},
   "source": [
    "# Accessing and Printing Characters"
   ]
  },
  {
   "cell_type": "code",
   "execution_count": 3,
   "id": "16491993",
   "metadata": {},
   "outputs": [
    {
     "name": "stdout",
     "output_type": "stream",
     "text": [
      "l\n"
     ]
    }
   ],
   "source": [
    "# Accessing and printing the 3rd character (index 2) of the string 'Dileep Kumar'\n",
    "x = \"Dileep Kumar\"\n",
    "print(x[2])  "
   ]
  },
  {
   "cell_type": "markdown",
   "id": "b1c367a2",
   "metadata": {},
   "source": [
    "# Slicing and Printing Characters"
   ]
  },
  {
   "cell_type": "code",
   "execution_count": 5,
   "id": "8f963e2a",
   "metadata": {},
   "outputs": [
    {
     "name": "stdout",
     "output_type": "stream",
     "text": [
      "lee\n"
     ]
    }
   ],
   "source": [
    "# Slicing and printing characters from index 2 to 4 of the string 'Dileep Kumar'\n",
    "print(x[2:5])"
   ]
  },
  {
   "cell_type": "markdown",
   "id": "ba37d44b",
   "metadata": {},
   "source": [
    "# Printing the Length of a String"
   ]
  },
  {
   "cell_type": "code",
   "execution_count": 8,
   "id": "4ee81690",
   "metadata": {},
   "outputs": [
    {
     "name": "stdout",
     "output_type": "stream",
     "text": [
      "12\n"
     ]
    }
   ],
   "source": [
    "# Printing the length of the string 'Dileep Kumar'\n",
    "print(len(x))"
   ]
  },
  {
   "cell_type": "markdown",
   "id": "315bfe06",
   "metadata": {},
   "source": [
    "# Converting to Uppercase and Lowercase"
   ]
  },
  {
   "cell_type": "code",
   "execution_count": 9,
   "id": "d08f9921",
   "metadata": {},
   "outputs": [
    {
     "name": "stdout",
     "output_type": "stream",
     "text": [
      "DILEEP KUMAR\n"
     ]
    }
   ],
   "source": [
    "# Converting the string to uppercase and printing it\n",
    "print(x.upper()) "
   ]
  },
  {
   "cell_type": "code",
   "execution_count": 10,
   "id": "9881fa80",
   "metadata": {},
   "outputs": [
    {
     "name": "stdout",
     "output_type": "stream",
     "text": [
      "dileep kumar\n"
     ]
    }
   ],
   "source": [
    "# Converting the string to lowercase and printing it\n",
    "print(x.lower())"
   ]
  },
  {
   "cell_type": "markdown",
   "id": "a40cfb9b",
   "metadata": {},
   "source": [
    "# Replacing Characters in a String"
   ]
  },
  {
   "cell_type": "code",
   "execution_count": 11,
   "id": "d118d78c",
   "metadata": {},
   "outputs": [
    {
     "name": "stdout",
     "output_type": "stream",
     "text": [
      "Kileep Kumar\n"
     ]
    }
   ],
   "source": [
    "# Replacing 'D' with 'K' in the string and printing the result\n",
    "print(x.replace(\"D\", \"K\"))"
   ]
  },
  {
   "cell_type": "markdown",
   "id": "f54c4eab",
   "metadata": {},
   "source": [
    "# Concatenating Strings"
   ]
  },
  {
   "cell_type": "code",
   "execution_count": 12,
   "id": "180e5e4d",
   "metadata": {},
   "outputs": [
    {
     "name": "stdout",
     "output_type": "stream",
     "text": [
      "dileep kumar\n"
     ]
    }
   ],
   "source": [
    "# Concatenating two strings and printing the result\n",
    "x = \"dileep\"\n",
    "y = \"kumar\"\n",
    "z = x + \" \" + y\n",
    "print(z)"
   ]
  },
  {
   "cell_type": "markdown",
   "id": "48deef6f",
   "metadata": {},
   "source": [
    "# Stripping Whitespace"
   ]
  },
  {
   "cell_type": "code",
   "execution_count": 13,
   "id": "108fe790",
   "metadata": {},
   "outputs": [
    {
     "name": "stdout",
     "output_type": "stream",
     "text": [
      "dileep\n"
     ]
    }
   ],
   "source": [
    "# Converting the string to lowercase and printing it\n",
    "print(x.lower()) "
   ]
  },
  {
   "cell_type": "code",
   "execution_count": 14,
   "id": "38d9bb38",
   "metadata": {},
   "outputs": [
    {
     "name": "stdout",
     "output_type": "stream",
     "text": [
      "dileep\n"
     ]
    }
   ],
   "source": [
    "# Stripping leading whitespaces and printing the result\n",
    "print(x.lstrip()) "
   ]
  },
  {
   "cell_type": "code",
   "execution_count": 15,
   "id": "daee937d",
   "metadata": {},
   "outputs": [
    {
     "name": "stdout",
     "output_type": "stream",
     "text": [
      "dileep\n"
     ]
    }
   ],
   "source": [
    "# Stripping trailing whitespaces and printing the result\n",
    "print(x.rstrip())"
   ]
  },
  {
   "cell_type": "markdown",
   "id": "5d6a3a99",
   "metadata": {},
   "source": [
    "# Replacing Substring"
   ]
  },
  {
   "cell_type": "code",
   "execution_count": 16,
   "id": "fd017d89",
   "metadata": {},
   "outputs": [
    {
     "name": "stdout",
     "output_type": "stream",
     "text": [
      "hello\n"
     ]
    }
   ],
   "source": [
    "# Replacing 'dileep' with 'hello' in the string and printing the result\n",
    "print(x.replace(\"dileep\", \"hello\"))"
   ]
  },
  {
   "cell_type": "markdown",
   "id": "aab62224",
   "metadata": {},
   "source": [
    "# Finding and Checking"
   ]
  },
  {
   "cell_type": "code",
   "execution_count": 17,
   "id": "c2364def",
   "metadata": {},
   "outputs": [
    {
     "name": "stdout",
     "output_type": "stream",
     "text": [
      "-1\n"
     ]
    }
   ],
   "source": [
    "# Finding the index of the substring 'kumar' in the string\n",
    "print(x.find(\"kumar\")) "
   ]
  },
  {
   "cell_type": "code",
   "execution_count": 18,
   "id": "eafd4b93",
   "metadata": {},
   "outputs": [
    {
     "name": "stdout",
     "output_type": "stream",
     "text": [
      "False\n"
     ]
    }
   ],
   "source": [
    "# Checking if the string ends with 'kumar'\n",
    "print(x.endswith(\"kumar\")) "
   ]
  },
  {
   "cell_type": "code",
   "execution_count": 19,
   "id": "8aac1b85",
   "metadata": {},
   "outputs": [
    {
     "name": "stdout",
     "output_type": "stream",
     "text": [
      "True\n"
     ]
    }
   ],
   "source": [
    "# Checking if the string ends with 'dileep'\n",
    "print(x.endswith(\"dileep\")) "
   ]
  },
  {
   "cell_type": "markdown",
   "id": "871c8f02",
   "metadata": {},
   "source": [
    "# Multiplying and Splitting"
   ]
  },
  {
   "cell_type": "code",
   "execution_count": 20,
   "id": "10d2c6b3",
   "metadata": {},
   "outputs": [
    {
     "name": "stdout",
     "output_type": "stream",
     "text": [
      " dileep kumar  dileep kumar  dileep kumar  dileep kumar  dileep kumar  dileep kumar  dileep kumar  dileep kumar  dileep kumar \n"
     ]
    }
   ],
   "source": [
    "# Creating a string with whitespace and multiplying it by 9\n",
    "x = \" dileep kumar \"\n",
    "y = x * 9\n",
    "print(y)"
   ]
  },
  {
   "cell_type": "code",
   "execution_count": 21,
   "id": "299c0040",
   "metadata": {},
   "outputs": [
    {
     "name": "stdout",
     "output_type": "stream",
     "text": [
      "['one', 'two', 'three', 'four']\n"
     ]
    }
   ],
   "source": [
    "# Splitting a string into a list of words\n",
    "string = \"one two three four\"\n",
    "list = string.split()\n",
    "print(list)"
   ]
  },
  {
   "cell_type": "code",
   "execution_count": 22,
   "id": "44d5b96d",
   "metadata": {},
   "outputs": [
    {
     "name": "stdout",
     "output_type": "stream",
     "text": [
      "['1', '2', '3', '4', '5', '6', '9']\n"
     ]
    }
   ],
   "source": [
    "# Splitting a string with '/' into a list\n",
    "string = \"1/2/3/4/5/6/9\"\n",
    "list = string.split('/')\n",
    "print(list)"
   ]
  },
  {
   "cell_type": "code",
   "execution_count": 23,
   "id": "8ef27265",
   "metadata": {},
   "outputs": [
    {
     "name": "stdout",
     "output_type": "stream",
     "text": [
      "['peach', 'raspberry', 'strawberry', 'vanilla']\n"
     ]
    }
   ],
   "source": [
    "# Splitting a string into a list of words using default whitespace delimiter\n",
    "string = 'peach raspberry strawberry vanilla'\n",
    "tokens = string.split()\n",
    "print(tokens)"
   ]
  },
  {
   "cell_type": "code",
   "execution_count": 24,
   "id": "42ff9bf6",
   "metadata": {},
   "outputs": [
    {
     "name": "stdout",
     "output_type": "stream",
     "text": [
      "['17', '92', '81', '12', '46', '5']\n"
     ]
    }
   ],
   "source": [
    "# Splitting a string with ';' into a list\n",
    "string = '17;92;81;12;46;5'\n",
    "tokens = string.split(';')\n",
    "print(tokens)"
   ]
  },
  {
   "cell_type": "code",
   "execution_count": 25,
   "id": "53a3e7d3",
   "metadata": {},
   "outputs": [
    {
     "name": "stdout",
     "output_type": "stream",
     "text": [
      "['www', 'example', 'com']\n"
     ]
    }
   ],
   "source": [
    "# Splitting a string with '.' into a list\n",
    "my_address = 'www.example.com'\n",
    "tokens = my_address.split('.')\n",
    "print(tokens)"
   ]
  }
 ],
 "metadata": {
  "kernelspec": {
   "display_name": "Python 3 (ipykernel)",
   "language": "python",
   "name": "python3"
  },
  "language_info": {
   "codemirror_mode": {
    "name": "ipython",
    "version": 3
   },
   "file_extension": ".py",
   "mimetype": "text/x-python",
   "name": "python",
   "nbconvert_exporter": "python",
   "pygments_lexer": "ipython3",
   "version": "3.11.5"
  }
 },
 "nbformat": 4,
 "nbformat_minor": 5
}
