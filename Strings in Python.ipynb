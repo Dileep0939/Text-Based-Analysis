{
 "cells": [
  {
   "cell_type": "code",
   "execution_count": 1,
   "id": "ab233544",
   "metadata": {},
   "outputs": [
    {
     "name": "stdout",
     "output_type": "stream",
     "text": [
      "hello\n"
     ]
    }
   ],
   "source": [
    "a = \"hello\"\n",
    "print(a)\n"
   ]
  },
  {
   "cell_type": "code",
   "execution_count": 4,
   "id": "34a5e5ba",
   "metadata": {},
   "outputs": [
    {
     "name": "stdout",
     "output_type": "stream",
     "text": [
      "l\n"
     ]
    }
   ],
   "source": [
    "# Accessing individual letters\n",
    "x = \"Dileep Kumar\"\n",
    "print(x[2])"
   ]
  },
  {
   "cell_type": "code",
   "execution_count": 5,
   "id": "b51ce06c",
   "metadata": {},
   "outputs": [
    {
     "name": "stdout",
     "output_type": "stream",
     "text": [
      "lee\n"
     ]
    }
   ],
   "source": [
    "x = \"Dileep Kumar\"\n",
    "print(x[2:5])"
   ]
  },
  {
   "cell_type": "code",
   "execution_count": 6,
   "id": "bc282b6e",
   "metadata": {},
   "outputs": [
    {
     "name": "stdout",
     "output_type": "stream",
     "text": [
      "12\n"
     ]
    }
   ],
   "source": [
    "x = \"Dileep Kumar\"\n",
    "print(len(x))"
   ]
  },
  {
   "cell_type": "code",
   "execution_count": 10,
   "id": "ebdc19bf",
   "metadata": {},
   "outputs": [
    {
     "name": "stdout",
     "output_type": "stream",
     "text": [
      "DILEEP KUMAR\n"
     ]
    }
   ],
   "source": [
    "x = \"Dileep Kumar\"\n",
    "print(x.upper())"
   ]
  },
  {
   "cell_type": "code",
   "execution_count": 11,
   "id": "3afc97ca",
   "metadata": {},
   "outputs": [
    {
     "name": "stdout",
     "output_type": "stream",
     "text": [
      "dileep kumar\n"
     ]
    }
   ],
   "source": [
    "print(x.lower())"
   ]
  },
  {
   "cell_type": "code",
   "execution_count": 12,
   "id": "558c6ff4",
   "metadata": {},
   "outputs": [
    {
     "name": "stdout",
     "output_type": "stream",
     "text": [
      "Kileep Kumar\n"
     ]
    }
   ],
   "source": [
    "print(x.replace(\"D\",\"K\"))"
   ]
  },
  {
   "cell_type": "code",
   "execution_count": 14,
   "id": "05b2fbf3",
   "metadata": {},
   "outputs": [
    {
     "name": "stdout",
     "output_type": "stream",
     "text": [
      "dileep kumar\n"
     ]
    }
   ],
   "source": [
    "x = \"dileep\"\n",
    "y = \"kumar\"\n",
    "z = x + \" \" + y\n",
    "print(z)"
   ]
  },
  {
   "cell_type": "code",
   "execution_count": 30,
   "id": "9b3ac6a8",
   "metadata": {},
   "outputs": [
    {
     "name": "stdout",
     "output_type": "stream",
     "text": [
      "dileep kumar\n",
      "dileep kumar\n",
      "dileep kumar\n",
      "hello kumar\n",
      "7\n",
      "True\n",
      "False\n"
     ]
    }
   ],
   "source": [
    "x = \"dileep kumar\"\n",
    "print(x.lower())\n",
    "print(x.lstrip())\n",
    "print(x.rstrip())\n",
    "print(x.replace(\"dileep\",\"hello\"))\n",
    "print(x.find(\"kumar\"))\n",
    "print(x.endswith(\"kumar\"))\n",
    "print(x.endswith(\"dileep\"))"
   ]
  },
  {
   "cell_type": "code",
   "execution_count": 34,
   "id": "32edce5a",
   "metadata": {},
   "outputs": [
    {
     "name": "stdout",
     "output_type": "stream",
     "text": [
      " dileep kumar  dileep kumar  dileep kumar  dileep kumar  dileep kumar  dileep kumar  dileep kumar  dileep kumar  dileep kumar \n"
     ]
    }
   ],
   "source": [
    "x = \" dileep kumar \"\n",
    "y = x * 9\n",
    "print(y)"
   ]
  },
  {
   "cell_type": "code",
   "execution_count": 38,
   "id": "8b19770e",
   "metadata": {},
   "outputs": [
    {
     "name": "stdout",
     "output_type": "stream",
     "text": [
      "['one', 'two', 'three', 'four']\n"
     ]
    }
   ],
   "source": [
    "string = \"one two three four\"\n",
    "list = string.split()\n",
    "print(list)"
   ]
  },
  {
   "cell_type": "code",
   "execution_count": 43,
   "id": "48b0d211",
   "metadata": {},
   "outputs": [
    {
     "name": "stdout",
     "output_type": "stream",
     "text": [
      "['1/2/3/4/5/6/9']\n"
     ]
    }
   ],
   "source": [
    "string = \"1/2/3/4/5/6/9\"\n",
    "list = string.split()\n",
    "print(list)"
   ]
  },
  {
   "cell_type": "code",
   "execution_count": 44,
   "id": "1c2824cb",
   "metadata": {},
   "outputs": [
    {
     "name": "stdout",
     "output_type": "stream",
     "text": [
      "['peach', 'raspberry', 'strawberry', 'vanilla']\n"
     ]
    }
   ],
   "source": [
    "string = 'peach raspberry strawberry vanilla'\n",
    "tokens = string.split()\n",
    "print(tokens)"
   ]
  },
  {
   "cell_type": "code",
   "execution_count": 46,
   "id": "0cc32e39",
   "metadata": {},
   "outputs": [
    {
     "name": "stdout",
     "output_type": "stream",
     "text": [
      "['17', '92', '81', '12', '46', '5']\n"
     ]
    }
   ],
   "source": [
    "string = '17;92;81;12;46;5'\n",
    "tokens = string.split(';')\n",
    "print(tokens)"
   ]
  },
  {
   "cell_type": "code",
   "execution_count": 47,
   "id": "688a235a",
   "metadata": {},
   "outputs": [
    {
     "name": "stdout",
     "output_type": "stream",
     "text": [
      "['www', 'example', 'com']\n"
     ]
    }
   ],
   "source": [
    "my_address = 'www.example.com'\n",
    "tokens = my_address.split('.')\n",
    "print(tokens)"
   ]
  },
  {
   "cell_type": "code",
   "execution_count": null,
   "id": "2bfdf5e8",
   "metadata": {},
   "outputs": [],
   "source": []
  }
 ],
 "metadata": {
  "kernelspec": {
   "display_name": "Python 3 (ipykernel)",
   "language": "python",
   "name": "python3"
  },
  "language_info": {
   "codemirror_mode": {
    "name": "ipython",
    "version": 3
   },
   "file_extension": ".py",
   "mimetype": "text/x-python",
   "name": "python",
   "nbconvert_exporter": "python",
   "pygments_lexer": "ipython3",
   "version": "3.11.5"
  }
 },
 "nbformat": 4,
 "nbformat_minor": 5
}
