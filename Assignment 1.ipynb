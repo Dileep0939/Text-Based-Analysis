{
 "cells": [
  {
   "cell_type": "markdown",
   "id": "3d6bc071",
   "metadata": {},
   "source": [
    "# STRINGS IN PYTHON"
   ]
  },
  {
   "cell_type": "markdown",
   "id": "7c4d8cbc",
   "metadata": {},
   "source": [
    "## Checking Substring Presence"
   ]
  },
  {
   "cell_type": "code",
   "execution_count": 14,
   "id": "fcf69257",
   "metadata": {},
   "outputs": [
    {
     "name": "stdout",
     "output_type": "stream",
     "text": [
      "Substring found\n"
     ]
    }
   ],
   "source": [
    "# Checking if a substring exists in a string\n",
    "string = \"Dileep Kumar\"\n",
    "substring = \"Dileep\"\n",
    "if substring in string:\n",
    "    print(\"Substring found\")\n",
    "else:\n",
    "    print(\"Substring not found\")"
   ]
  },
  {
   "cell_type": "markdown",
   "id": "aae2e85e",
   "metadata": {},
   "source": [
    "## Counting Substrings"
   ]
  },
  {
   "cell_type": "code",
   "execution_count": 15,
   "id": "e9e0dac3",
   "metadata": {},
   "outputs": [
    {
     "name": "stdout",
     "output_type": "stream",
     "text": [
      "Count of substring: 3\n"
     ]
    }
   ],
   "source": [
    "# Counting occurrences of a substring in a string\n",
    "string = \"hello hello hello\"\n",
    "substring = \"hello\"\n",
    "count = string.count(substring)\n",
    "print(\"Count of substring:\", count)"
   ]
  },
  {
   "cell_type": "markdown",
   "id": "f23f5285",
   "metadata": {},
   "source": [
    "## Joining List Elements into a String"
   ]
  },
  {
   "cell_type": "code",
   "execution_count": 16,
   "id": "191d41cb",
   "metadata": {},
   "outputs": [
    {
     "name": "stdout",
     "output_type": "stream",
     "text": [
      "Joined string: Dileep-Kumar-Katla\n"
     ]
    }
   ],
   "source": [
    "# Joining list elements into a string\n",
    "list_of_words = [\"Dileep\", \"Kumar\", \"Katla\"]\n",
    "delimiter = \"-\"\n",
    "joined_string = delimiter.join(list_of_words)\n",
    "print(\"Joined string:\", joined_string)"
   ]
  },
  {
   "cell_type": "markdown",
   "id": "7b8f0ba9",
   "metadata": {},
   "source": [
    "## Checking if String is Numeric"
   ]
  },
  {
   "cell_type": "code",
   "execution_count": 17,
   "id": "bd8280be",
   "metadata": {},
   "outputs": [
    {
     "name": "stdout",
     "output_type": "stream",
     "text": [
      "String is not numeric\n"
     ]
    }
   ],
   "source": [
    "# Checking if a string is numeric\n",
    "numeric_string = \"0939D\"\n",
    "if numeric_string.isnumeric():\n",
    "    print(\"String is numeric\")\n",
    "else:\n",
    "    print(\"String is not numeric\")"
   ]
  },
  {
   "cell_type": "markdown",
   "id": "8b7087dc",
   "metadata": {},
   "source": [
    "## Checking if String is Alphabetic"
   ]
  },
  {
   "cell_type": "code",
   "execution_count": 18,
   "id": "6fc561be",
   "metadata": {},
   "outputs": [
    {
     "name": "stdout",
     "output_type": "stream",
     "text": [
      "String is alphabetic\n"
     ]
    }
   ],
   "source": [
    "# Checking if a string is alphabetic\n",
    "alphabetic_string = \"Dileep\"\n",
    "if alphabetic_string.isalpha():\n",
    "    print(\"String is alphabetic\")\n",
    "else:\n",
    "    print(\"String is not alphabetic\")"
   ]
  },
  {
   "cell_type": "markdown",
   "id": "34548b3a",
   "metadata": {},
   "source": [
    "## Checking if String is Alphanumeric"
   ]
  },
  {
   "cell_type": "code",
   "execution_count": 19,
   "id": "80072ec7",
   "metadata": {},
   "outputs": [
    {
     "name": "stdout",
     "output_type": "stream",
     "text": [
      "String is alphanumeric\n"
     ]
    }
   ],
   "source": [
    "# Checking if a string is alphanumeric\n",
    "alphanumeric_string = \"Dileep0939\"\n",
    "if alphanumeric_string.isalnum():\n",
    "    print(\"String is alphanumeric\")\n",
    "else:\n",
    "    print(\"String is not alphanumeric\")"
   ]
  },
  {
   "cell_type": "markdown",
   "id": "998ef1c4",
   "metadata": {},
   "source": [
    "## Checking if String Contains Only Whitespace"
   ]
  },
  {
   "cell_type": "code",
   "execution_count": 20,
   "id": "fed2b04b",
   "metadata": {},
   "outputs": [
    {
     "name": "stdout",
     "output_type": "stream",
     "text": [
      "String contains only whitespace\n"
     ]
    }
   ],
   "source": [
    "# Checking if a string contains only whitespace\n",
    "whitespace_string = \"    \"\n",
    "if whitespace_string.isspace():\n",
    "    print(\"String contains only whitespace\")\n",
    "else:\n",
    "    print(\"String does not contain only whitespace\")"
   ]
  },
  {
   "cell_type": "markdown",
   "id": "3d22fc72",
   "metadata": {},
   "source": [
    "## Capitalizing First Letter of Each Word"
   ]
  },
  {
   "cell_type": "code",
   "execution_count": 21,
   "id": "bbf6f8d2",
   "metadata": {},
   "outputs": [
    {
     "name": "stdout",
     "output_type": "stream",
     "text": [
      "Capitalized sentence: Text Based Analysis\n"
     ]
    }
   ],
   "source": [
    "# Capitalizing the first letter of each word in a string\n",
    "sentence = \"text based analysis\"\n",
    "capitalized_sentence = sentence.title()\n",
    "print(\"Capitalized sentence:\", capitalized_sentence)"
   ]
  }
 ],
 "metadata": {
  "kernelspec": {
   "display_name": "Python 3 (ipykernel)",
   "language": "python",
   "name": "python3"
  },
  "language_info": {
   "codemirror_mode": {
    "name": "ipython",
    "version": 3
   },
   "file_extension": ".py",
   "mimetype": "text/x-python",
   "name": "python",
   "nbconvert_exporter": "python",
   "pygments_lexer": "ipython3",
   "version": "3.11.5"
  }
 },
 "nbformat": 4,
 "nbformat_minor": 5
}
