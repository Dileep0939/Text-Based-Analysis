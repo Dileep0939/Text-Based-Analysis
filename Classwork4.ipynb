{
 "cells": [
  {
   "cell_type": "markdown",
   "id": "69daf85e",
   "metadata": {},
   "source": [
    "# Dataset Loading and Exploration"
   ]
  },
  {
   "cell_type": "code",
   "execution_count": 20,
   "id": "2f70b5c5",
   "metadata": {},
   "outputs": [
    {
     "data": {
      "text/html": [
       "<div>\n",
       "<style scoped>\n",
       "    .dataframe tbody tr th:only-of-type {\n",
       "        vertical-align: middle;\n",
       "    }\n",
       "\n",
       "    .dataframe tbody tr th {\n",
       "        vertical-align: top;\n",
       "    }\n",
       "\n",
       "    .dataframe thead th {\n",
       "        text-align: right;\n",
       "    }\n",
       "</style>\n",
       "<table border=\"1\" class=\"dataframe\">\n",
       "  <thead>\n",
       "    <tr style=\"text-align: right;\">\n",
       "      <th></th>\n",
       "      <th>overall</th>\n",
       "      <th>verified</th>\n",
       "      <th>reviewerID</th>\n",
       "      <th>asin</th>\n",
       "      <th>reviewText</th>\n",
       "      <th>summary</th>\n",
       "    </tr>\n",
       "  </thead>\n",
       "  <tbody>\n",
       "    <tr>\n",
       "      <th>126225</th>\n",
       "      <td>5</td>\n",
       "      <td>True</td>\n",
       "      <td>A1FOUR6MIFJFN8</td>\n",
       "      <td>B00172XBQA</td>\n",
       "      <td>Made a beautiful rug for my living room.</td>\n",
       "      <td>Five Stars</td>\n",
       "    </tr>\n",
       "    <tr>\n",
       "      <th>242090</th>\n",
       "      <td>5</td>\n",
       "      <td>True</td>\n",
       "      <td>A3RSL71AIPG26U</td>\n",
       "      <td>B005ZHFYGS</td>\n",
       "      <td>Excellent</td>\n",
       "      <td>Five Stars</td>\n",
       "    </tr>\n",
       "    <tr>\n",
       "      <th>437330</th>\n",
       "      <td>5</td>\n",
       "      <td>True</td>\n",
       "      <td>A2SZ5LQAAK2MD8</td>\n",
       "      <td>B003DWMCSA</td>\n",
       "      <td>These buttons were perfect for the Christmas o...</td>\n",
       "      <td>Five Stars</td>\n",
       "    </tr>\n",
       "    <tr>\n",
       "      <th>297360</th>\n",
       "      <td>5</td>\n",
       "      <td>False</td>\n",
       "      <td>A1U9NOZSL0SN9X</td>\n",
       "      <td>B00D13G71Y</td>\n",
       "      <td>all good</td>\n",
       "      <td>Five Stars</td>\n",
       "    </tr>\n",
       "    <tr>\n",
       "      <th>193629</th>\n",
       "      <td>5</td>\n",
       "      <td>True</td>\n",
       "      <td>AC2MPC1TC0E4U</td>\n",
       "      <td>B003D78OFK</td>\n",
       "      <td>Good</td>\n",
       "      <td>Five Stars</td>\n",
       "    </tr>\n",
       "    <tr>\n",
       "      <th>91744</th>\n",
       "      <td>5</td>\n",
       "      <td>True</td>\n",
       "      <td>AYFEWUGDSEJP4</td>\n",
       "      <td>B000XANNVA</td>\n",
       "      <td>work great and stay sharp</td>\n",
       "      <td>Five Stars</td>\n",
       "    </tr>\n",
       "    <tr>\n",
       "      <th>397421</th>\n",
       "      <td>5</td>\n",
       "      <td>True</td>\n",
       "      <td>A2INYYHH8NVVL3</td>\n",
       "      <td>B0196T916Y</td>\n",
       "      <td>Works great on leather shoes</td>\n",
       "      <td>Five Stars</td>\n",
       "    </tr>\n",
       "    <tr>\n",
       "      <th>95825</th>\n",
       "      <td>5</td>\n",
       "      <td>True</td>\n",
       "      <td>A10NIZTEOWKX5N</td>\n",
       "      <td>B000Y00DDK</td>\n",
       "      <td>I love the colors in this skein. I'm going to ...</td>\n",
       "      <td>Great colors</td>\n",
       "    </tr>\n",
       "    <tr>\n",
       "      <th>483333</th>\n",
       "      <td>5</td>\n",
       "      <td>True</td>\n",
       "      <td>A34W3MVBDDARVD</td>\n",
       "      <td>B00USBRS0Q</td>\n",
       "      <td>love it</td>\n",
       "      <td>Five Stars</td>\n",
       "    </tr>\n",
       "    <tr>\n",
       "      <th>428486</th>\n",
       "      <td>5</td>\n",
       "      <td>True</td>\n",
       "      <td>AJPAXBX3R4SF8</td>\n",
       "      <td>B0019KCTY0</td>\n",
       "      <td>Great cardstock in really nice pastel colors.</td>\n",
       "      <td>Great Cardstock</td>\n",
       "    </tr>\n",
       "  </tbody>\n",
       "</table>\n",
       "</div>"
      ],
      "text/plain": [
       "        overall  verified      reviewerID        asin  \\\n",
       "126225        5      True  A1FOUR6MIFJFN8  B00172XBQA   \n",
       "242090        5      True  A3RSL71AIPG26U  B005ZHFYGS   \n",
       "437330        5      True  A2SZ5LQAAK2MD8  B003DWMCSA   \n",
       "297360        5     False  A1U9NOZSL0SN9X  B00D13G71Y   \n",
       "193629        5      True   AC2MPC1TC0E4U  B003D78OFK   \n",
       "91744         5      True   AYFEWUGDSEJP4  B000XANNVA   \n",
       "397421        5      True  A2INYYHH8NVVL3  B0196T916Y   \n",
       "95825         5      True  A10NIZTEOWKX5N  B000Y00DDK   \n",
       "483333        5      True  A34W3MVBDDARVD  B00USBRS0Q   \n",
       "428486        5      True   AJPAXBX3R4SF8  B0019KCTY0   \n",
       "\n",
       "                                               reviewText          summary  \n",
       "126225           Made a beautiful rug for my living room.       Five Stars  \n",
       "242090                                          Excellent       Five Stars  \n",
       "437330  These buttons were perfect for the Christmas o...       Five Stars  \n",
       "297360                                           all good       Five Stars  \n",
       "193629                                               Good       Five Stars  \n",
       "91744                           work great and stay sharp       Five Stars  \n",
       "397421                       Works great on leather shoes       Five Stars  \n",
       "95825   I love the colors in this skein. I'm going to ...     Great colors  \n",
       "483333                                            love it       Five Stars  \n",
       "428486      Great cardstock in really nice pastel colors.  Great Cardstock  "
      ]
     },
     "execution_count": 20,
     "metadata": {},
     "output_type": "execute_result"
    }
   ],
   "source": [
    "import pandas as pd\n",
    "from nltk.corpus import opinion_lexicon\n",
    "\n",
    "# Load the dataset\n",
    "df = pd.read_csv(\"/Users/dileepkumarkatla/Downloads/Arts_Crafts_and_sewing_5 (1).csv\")\n",
    "df.sample(10)"
   ]
  },
  {
   "cell_type": "markdown",
   "id": "7bc00df4",
   "metadata": {},
   "source": [
    "# Creating Sentiment Dictionary"
   ]
  },
  {
   "cell_type": "code",
   "execution_count": 28,
   "id": "0a419005",
   "metadata": {},
   "outputs": [
    {
     "name": "stdout",
     "output_type": "stream",
     "text": [
      "{'a+': 1, 'abound': 1, 'abounds': 1, 'abundance': 1, 'abundant': 1, 'accessable': 1, 'accessible': 1, 'acclaim': 1, 'acclaimed': 1, 'acclamation': 1, 'accolade': 1, 'accolades': 1, 'accommodative': 1, 'accomodative': 1, 'accomplish': 1, 'accomplished': 1, 'accomplishment': 1, 'accomplishments': 1, 'accurate': 1, 'accurately': 1, 'achievable': 1, 'achievement': 1, 'achievements': 1, 'achievible': 1, 'acumen': 1, 'adaptable': 1, 'adaptive': 1, 'adequate': 1, 'adjustable': 1, 'admirable': 1, 'admirably': 1, 'admiration': 1, 'admire': 1, 'admirer': 1, 'admiring': 1, 'admiringly': 1, 'adorable': 1, 'adore': 1, 'adored': 1, 'adorer': 1, 'adoring': 1, 'adoringly': 1, 'adroit': 1, 'adroitly': 1, 'adulate': 1, 'adulation': 1, 'adulatory': 1, 'advanced': 1, 'advantage': 1, 'advantageous': 1}\n"
     ]
    }
   ],
   "source": [
    "# Create the dictionary for sentiment scoring\n",
    "word_dict = {}\n",
    "pos_score = 1\n",
    "neg_score = -1\n",
    "\n",
    "# Populate the dictionary with positive words and scores\n",
    "for word in opinion_lexicon.positive():\n",
    "    word_dict[word] = pos_score\n",
    "\n",
    "# Populate the dictionary with negative words and scores\n",
    "for word in opinion_lexicon.negative():\n",
    "    word_dict[word] = neg_score\n",
    "\n",
    "# Display the contents of the word_dict dictionary\n",
    "# Display a limited portion of the contents of the word_dict dictionary\n",
    "print({k: word_dict[k] for k in list(word_dict.keys())[:50]})"
   ]
  },
  {
   "cell_type": "markdown",
   "id": "12732dfa",
   "metadata": {},
   "source": [
    "# Sentiment Scoring Function Definition"
   ]
  },
  {
   "cell_type": "code",
   "execution_count": 22,
   "id": "b93b70af",
   "metadata": {},
   "outputs": [],
   "source": [
    "# Import word_tokenize function from NLTK\n",
    "from nltk.tokenize import word_tokenize\n",
    "\n",
    "# Define function for sentiment scoring\n",
    "def bing_liu_score(text):\n",
    "    sentiment_score = 0\n",
    "    bag_of_words = word_tokenize(text.lower())\n",
    "    for word in bag_of_words:\n",
    "        if word in word_dict:\n",
    "            sentiment_score += word_dict[word]\n",
    "    return sentiment_score"
   ]
  },
  {
   "cell_type": "markdown",
   "id": "cfe2efc9",
   "metadata": {},
   "source": [
    "# Example Sentiment Scoring"
   ]
  },
  {
   "cell_type": "code",
   "execution_count": 23,
   "id": "4faaeaa7",
   "metadata": {},
   "outputs": [
    {
     "name": "stdout",
     "output_type": "stream",
     "text": [
      "Sentiment Score: 2\n"
     ]
    }
   ],
   "source": [
    "# Example text for sentiment scoring\n",
    "example_text = \"This product is amazing and excellent!\"\n",
    "\n",
    "# Calculate sentiment score using the bing_liu_score function\n",
    "sentiment_score = bing_liu_score(example_text)\n",
    "\n",
    "# Print the sentiment score\n",
    "print(\"Sentiment Score:\", sentiment_score)"
   ]
  },
  {
   "cell_type": "markdown",
   "id": "f75558b2",
   "metadata": {},
   "source": [
    "# Applying Sentiment Analysis to Dataset"
   ]
  },
  {
   "cell_type": "code",
   "execution_count": 24,
   "id": "199fef57",
   "metadata": {},
   "outputs": [],
   "source": [
    "# Apply sentiment analysis and create a new column for scores\n",
    "df['reviewText'].fillna('no review', inplace=True)\n",
    "df['Bing_Liu_Score'] = df['reviewText'].apply(bing_liu_score)"
   ]
  },
  {
   "cell_type": "markdown",
   "id": "95048f02",
   "metadata": {},
   "source": [
    "# Displaying Sentiment Analysis Results"
   ]
  },
  {
   "cell_type": "code",
   "execution_count": 25,
   "id": "ae04ffca",
   "metadata": {},
   "outputs": [
    {
     "name": "stdout",
     "output_type": "stream",
     "text": [
      "   overall                                         reviewText  Bing_Liu_Score\n",
      "0        4                Contains some interesting stitches.               1\n",
      "1        5  I'm a fairly experienced knitter of the one-co...              22\n",
      "2        4  Great book but the index is terrible. Had to w...               0\n",
      "3        5  I purchased the Kindle edition which is incred...               4\n",
      "4        5  Very well laid out and very easy to read.\\n\\nT...               5\n",
      "5        5  Beginning her career as a freelance knitter, M...              15\n",
      "6        5  This is a terrific stitch handbook (and I have...               9\n",
      "7        4  The book needs to be coil bound. The content i...               1\n",
      "8        5  I really am enjoying this book! I like the siz...              12\n",
      "9        5  Just received this book and looked over it cov...               6\n"
     ]
    }
   ],
   "source": [
    "# Display the output\n",
    "print(df[['overall', 'reviewText', 'Bing_Liu_Score']].head(10))"
   ]
  },
  {
   "cell_type": "code",
   "execution_count": 26,
   "id": "f4b5d9a0",
   "metadata": {},
   "outputs": [
    {
     "name": "stdout",
     "output_type": "stream",
     "text": [
      "         Bing_Liu_Score\n",
      "overall                \n",
      "1             -0.255049\n",
      "2              0.566098\n",
      "3              1.158796\n",
      "4              2.027999\n",
      "5              2.129986\n"
     ]
    }
   ],
   "source": [
    "# Check the sentiment for each rating\n",
    "sentiment_by_rating = df.groupby('overall').agg({'Bing_Liu_Score': 'mean'})\n",
    "print(sentiment_by_rating)"
   ]
  }
 ],
 "metadata": {
  "kernelspec": {
   "display_name": "Python 3 (ipykernel)",
   "language": "python",
   "name": "python3"
  },
  "language_info": {
   "codemirror_mode": {
    "name": "ipython",
    "version": 3
   },
   "file_extension": ".py",
   "mimetype": "text/x-python",
   "name": "python",
   "nbconvert_exporter": "python",
   "pygments_lexer": "ipython3",
   "version": "3.11.5"
  }
 },
 "nbformat": 4,
 "nbformat_minor": 5
}
