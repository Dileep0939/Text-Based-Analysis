{
 "cells": [
  {
   "cell_type": "markdown",
   "id": "c94df410",
   "metadata": {},
   "source": [
    "<div style=\"color:black;\n",
    "           display:fill;\n",
    "           border-radius:5px;\n",
    "           background-color:#FFD700; \n",
    "           font-size:110%;\n",
    "           font-family:Verdana;\n",
    "           letter-spacing:0.5px\">\n",
    "\n",
    "<h1 style=\"padding: 10px;\n",
    "              color:black;\"> \n",
    "    <center>TEXT SUMMARIZATION</center>\n",
    "</h1>\n",
    "</div>"
   ]
  },
  {
   "cell_type": "code",
   "execution_count": 83,
   "id": "be9687e8",
   "metadata": {},
   "outputs": [],
   "source": [
    "# Importing Libraries\n",
    "from nltk.corpus import stopwords \n",
    "from nltk.cluster.util import cosine_distance\n",
    "import numpy as np\n",
    "import networkx as nx"
   ]
  },
  {
   "cell_type": "markdown",
   "id": "8b34cc9f",
   "metadata": {},
   "source": [
    "<div style=\"color:white;\n",
    "           display:fill;\n",
    "           border-radius:5px;\n",
    "           background-color:#18EAC1;\n",
    "           font-size:110%;\n",
    "           font-family:Verdana;\n",
    "           letter-spacing:0.5px\">\n",
    "\n",
    "<h1 style=\"padding: 10px;\n",
    "              color:white;\">\n",
    "    <center>Loading and Preprocessing the Text</center>\n",
    "</h1>\n",
    "</div> "
   ]
  },
  {
   "cell_type": "code",
   "execution_count": 84,
   "id": "0322296c",
   "metadata": {},
   "outputs": [],
   "source": [
    "# Loading file\n",
    "file = open(\"/Users/dileepkumarkatla/Downloads/Text1.txt\", \"r\")"
   ]
  },
  {
   "cell_type": "code",
   "execution_count": 85,
   "id": "9a4e3446",
   "metadata": {},
   "outputs": [
    {
     "name": "stdout",
     "output_type": "stream",
     "text": [
      "Artificial intelligence (AI) has emerged as one of the most transformative technologies of the 21st century, permeating various industries and facets of everyday life\n",
      "Its influence ranges from virtual assistants like Siri and Alexa, which have become ubiquitous in households worldwide, to complex recommendation systems on streaming platforms like Netflix, shaping our entertainment choices\n",
      "This technology's rapid evolution is reshaping the landscape of innovation and productivity across numerous sectors.In healthcare, AI holds immense promise for revolutionizing diagnostics, treatment planning, and patient care\n",
      "Machine learning algorithms, trained on vast amounts of medical data, can analyze symptoms, predict disease progression, and even recommend personalized treatment regimens\n",
      "This capacity not only enhances medical decision-making but also offers the potential for early detection of diseases, leading to better outcomes and reduced healthcare costs.Moreover, AI-powered robotics is driving significant advancements in manufacturing processes\n",
      "Automated systems equipped with AI algorithms are streamlining production lines, optimizing resource utilization, and improving product quality\n",
      "These robots can perform tasks with precision and speed unmatched by human workers, leading to increased efficiency and cost savings for companies.However, the widespread adoption of AI also brings forth challenges and ethical dilemmas\n",
      "One prominent concern is the potential for job displacement as automation replaces human labor in various industries\n",
      "While AI enhances productivity, it also raises questions about the future of work and the need for reskilling and upskilling the workforce to adapt to these technological shifts.Additionally, the issue of algorithmic bias poses a significant hurdle to AI's equitable deployment\n",
      "Biases embedded in training data or algorithmic decision-making processes can perpetuate discrimination, exacerbating social inequalities\n",
      "Addressing these biases requires deliberate efforts to ensure fairness, transparency, and accountability in AI systems.Despite these challenges, the transformative potential of AI cannot be overstated\n",
      "Its applications extend beyond traditional domains, with fields like finance, transportation, and agriculture benefiting from AI-driven innovations\n",
      "In finance, AI algorithms analyze market trends and financial data to inform investment decisions and risk management strategies\n",
      "Autonomous vehicles, powered by AI, promise to revolutionize transportation by improving road safety and reducing congestion\n",
      "In agriculture, AI technologies optimize crop yields, monitor soil health, and mitigate environmental risks, contributing to sustainable farming practices.Furthermore, AI has the potential to tackle some of humanity's most pressing challenges, such as climate change and healthcare disparities\n",
      "Climate scientists use AI models to analyze climate data, predict weather patterns, and develop strategies for climate adaptation and mitigation\n",
      "In healthcare, AI-driven research accelerates drug discovery, enables precision medicine, and facilitates remote patient monitoring, especially crucial during global health crises like the COVID-19 pandemic.In conclusion, artificial intelligence stands as a transformative force with vast implications for society, economy, and governance\n",
      "While it presents challenges and ethical considerations, its potential to drive innovation, improve efficiency, and address complex problems cannot be ignored\n",
      "As we navigate the AI-powered future, it is imperative to foster responsible AI development, ensuring that its benefits are equitably distributed and aligned with societal values and aspirations.\n",
      "\n"
     ]
    }
   ],
   "source": [
    "# This file contains one paragraph of multiple sentences\n",
    "filedata = file.readlines()\n",
    "article = filedata[0].split(\". \") # Just do the first paragraph\n",
    "\n",
    "# Get stopwords from NLTK\n",
    "stop_words = set(stopwords.words('english'))\n",
    "\n",
    "# Preprocess the Sentences\n",
    "sentences = []\n",
    "for sentence in article:\n",
    "    print(sentence)\n",
    "    # Remove stopwords and non-alphabetic characters\n",
    "    sentence = [word.lower() for word in sentence.split() if word.isalpha() and word.lower() not in stop_words]\n",
    "    sentences.append(sentence)"
   ]
  },
  {
   "cell_type": "code",
   "execution_count": 86,
   "id": "33315b46",
   "metadata": {},
   "outputs": [
    {
     "name": "stdout",
     "output_type": "stream",
     "text": [
      "Sentences are  [['artificial', 'intelligence', 'emerged', 'one', 'transformative', 'technologies', 'permeating', 'various', 'industries', 'facets', 'everyday', 'life'], ['influence', 'ranges', 'virtual', 'assistants', 'like', 'siri', 'become', 'ubiquitous', 'households', 'complex', 'recommendation', 'systems', 'streaming', 'platforms', 'like', 'shaping', 'entertainment', 'choices'], ['rapid', 'evolution', 'reshaping', 'landscape', 'innovation', 'productivity', 'across', 'numerous', 'ai', 'holds', 'immense', 'promise', 'revolutionizing', 'treatment', 'patient', 'care'], ['machine', 'learning', 'trained', 'vast', 'amounts', 'medical', 'analyze', 'predict', 'disease', 'even', 'recommend', 'personalized', 'treatment', 'regimens'], ['capacity', 'enhances', 'medical', 'also', 'offers', 'potential', 'early', 'detection', 'leading', 'better', 'outcomes', 'reduced', 'healthcare', 'robotics', 'driving', 'significant', 'advancements', 'manufacturing', 'processes'], ['automated', 'systems', 'equipped', 'ai', 'algorithms', 'streamlining', 'production', 'optimizing', 'resource', 'improving', 'product', 'quality'], ['robots', 'perform', 'tasks', 'precision', 'speed', 'unmatched', 'human', 'leading', 'increased', 'efficiency', 'cost', 'savings', 'widespread', 'adoption', 'ai', 'also', 'brings', 'forth', 'challenges', 'ethical', 'dilemmas'], ['one', 'prominent', 'concern', 'potential', 'job', 'displacement', 'automation', 'replaces', 'human', 'labor', 'various', 'industries'], ['ai', 'enhances', 'also', 'raises', 'questions', 'future', 'work', 'need', 'reskilling', 'upskilling', 'workforce', 'adapt', 'technological', 'issue', 'algorithmic', 'bias', 'poses', 'significant', 'hurdle', 'equitable', 'deployment'], ['biases', 'embedded', 'training', 'data', 'algorithmic', 'processes', 'perpetuate', 'exacerbating', 'social', 'inequalities'], ['addressing', 'biases', 'requires', 'deliberate', 'efforts', 'ensure', 'accountability', 'ai', 'transformative', 'potential', 'ai', 'cannot', 'overstated'], ['applications', 'extend', 'beyond', 'traditional', 'fields', 'like', 'agriculture', 'benefiting', 'innovations'], ['ai', 'algorithms', 'analyze', 'market', 'trends', 'financial', 'data', 'inform', 'investment', 'decisions', 'risk', 'management', 'strategies'], ['autonomous', 'powered', 'promise', 'revolutionize', 'transportation', 'improving', 'road', 'safety', 'reducing', 'congestion'], ['ai', 'technologies', 'optimize', 'crop', 'monitor', 'soil', 'mitigate', 'environmental', 'contributing', 'sustainable', 'farming', 'ai', 'potential', 'tackle', 'pressing', 'climate', 'change', 'healthcare', 'disparities'], ['climate', 'scientists', 'use', 'ai', 'models', 'analyze', 'climate', 'predict', 'weather', 'develop', 'strategies', 'climate', 'adaptation', 'mitigation'], ['research', 'accelerates', 'drug', 'enables', 'precision', 'facilitates', 'remote', 'patient', 'especially', 'crucial', 'global', 'health', 'crises', 'like', 'artificial', 'intelligence', 'stands', 'transformative', 'force', 'vast', 'implications', 'governance'], ['presents', 'challenges', 'ethical', 'potential', 'drive', 'improve', 'address', 'complex', 'problems', 'cannot', 'ignored'], ['navigate', 'imperative', 'foster', 'responsible', 'ai', 'ensuring', 'benefits', 'equitably', 'distributed', 'aligned', 'societal', 'values']]\n"
     ]
    }
   ],
   "source": [
    "# Display Preprocessed Sentences\n",
    "print(\"Sentences are \", sentences)"
   ]
  },
  {
   "cell_type": "markdown",
   "id": "4fb85336",
   "metadata": {},
   "source": [
    "<div style=\"color:white;\n",
    "           display:fill;\n",
    "           border-radius:5px;\n",
    "           background-color:#18EAC1;\n",
    "           font-size:110%;\n",
    "           font-family:Verdana;\n",
    "           letter-spacing:0.5px\">\n",
    "\n",
    "<h1 style=\"padding: 10px;\n",
    "              color:white;\">\n",
    "    <center>Calculating Sentence Similarity</center>\n",
    "</h1>\n",
    "</div>\n"
   ]
  },
  {
   "cell_type": "code",
   "execution_count": 87,
   "id": "43a7463b",
   "metadata": {},
   "outputs": [],
   "source": [
    "# Defining sentence similarity & building vectors \n",
    "def sentence_similarity(sent1, sent2 ):\n",
    "    # Convert sentences to lowercase\n",
    "    sent1 = [w.lower() for w in sent1]\n",
    "    sent2 = [w.lower() for w in sent2]\n",
    "    # Get unique words from both sentences\n",
    "    all_words = list(set(sent1 + sent2))\n",
    "    # Initialize vectors\n",
    "    vector1 = [0] * len(all_words)\n",
    "    vector2 = [0] * len(all_words)\n",
    "     # Build vector for the first sentence\n",
    "    for w in sent1:\n",
    "          vector1[all_words.index(w)] += 1\n",
    "     # Build vector for the second sentence\n",
    "    for w in sent2:\n",
    "          vector2[all_words.index(w)] += 1\n",
    "            # Calculate cosine similarity\n",
    "    return 1 - cosine_distance(vector1, vector2)"
   ]
  },
  {
   "cell_type": "code",
   "execution_count": 88,
   "id": "809ed411",
   "metadata": {},
   "outputs": [
    {
     "name": "stdout",
     "output_type": "stream",
     "text": [
      "Smilarity matrix \n",
      " [[0.         0.         0.         0.         0.         0.\n",
      "  0.         0.25       0.         0.         0.0745356  0.\n",
      "  0.         0.         0.06299408 0.         0.18463724 0.\n",
      "  0.        ]\n",
      " [0.         0.         0.         0.         0.         0.06454972\n",
      "  0.         0.         0.         0.         0.         0.1490712\n",
      "  0.         0.         0.         0.         0.09534626 0.06741999\n",
      "  0.        ]\n",
      " [0.         0.         0.         0.06681531 0.         0.07216878\n",
      "  0.05455447 0.         0.05455447 0.         0.12909944 0.\n",
      "  0.06933752 0.07905694 0.10910895 0.0559017  0.05330018 0.\n",
      "  0.07216878]\n",
      " [0.         0.         0.06681531 0.         0.06131393 0.\n",
      "  0.         0.         0.         0.         0.         0.\n",
      "  0.07412493 0.         0.         0.11952286 0.05698029 0.\n",
      "  0.        ]\n",
      " [0.         0.         0.         0.06131393 0.         0.\n",
      "  0.10012523 0.06622662 0.15018785 0.07254763 0.05923489 0.\n",
      "  0.         0.         0.10012523 0.         0.         0.06917145\n",
      "  0.        ]\n",
      " [0.         0.06454972 0.07216878 0.         0.         0.\n",
      "  0.06299408 0.         0.06299408 0.         0.1490712  0.\n",
      "  0.16012815 0.09128709 0.12598816 0.06454972 0.         0.\n",
      "  0.08333333]\n",
      " [0.         0.         0.05455447 0.         0.10012523 0.06299408\n",
      "  0.         0.06299408 0.0952381  0.         0.11268723 0.\n",
      "  0.06052275 0.         0.0952381  0.048795   0.04652421 0.13159034\n",
      "  0.06299408]\n",
      " [0.25       0.         0.         0.         0.06622662 0.\n",
      "  0.06299408 0.         0.         0.         0.0745356  0.\n",
      "  0.         0.         0.06299408 0.         0.         0.08703883\n",
      "  0.        ]\n",
      " [0.         0.         0.05455447 0.         0.15018785 0.06299408\n",
      "  0.0952381  0.         0.         0.06900656 0.11268723 0.\n",
      "  0.06052275 0.         0.0952381  0.048795   0.         0.\n",
      "  0.06299408]\n",
      " [0.         0.         0.         0.         0.07254763 0.\n",
      "  0.         0.         0.06900656 0.         0.08164966 0.\n",
      "  0.0877058  0.         0.         0.         0.         0.\n",
      "  0.        ]\n",
      " [0.0745356  0.         0.12909944 0.         0.05923489 0.1490712\n",
      "  0.11268723 0.0745356  0.11268723 0.08164966 0.         0.\n",
      "  0.14322297 0.         0.28171808 0.11547005 0.05504819 0.15569979\n",
      "  0.1490712 ]\n",
      " [0.         0.1490712  0.         0.         0.         0.\n",
      "  0.         0.         0.         0.         0.         0.\n",
      "  0.         0.         0.         0.         0.07106691 0.\n",
      "  0.        ]\n",
      " [0.         0.         0.06933752 0.07412493 0.         0.16012815\n",
      "  0.06052275 0.         0.06052275 0.0877058  0.14322297 0.\n",
      "  0.         0.         0.12104551 0.1860521  0.         0.\n",
      "  0.08006408]\n",
      " [0.         0.         0.07905694 0.         0.         0.09128709\n",
      "  0.         0.         0.         0.         0.         0.\n",
      "  0.         0.         0.         0.         0.         0.\n",
      "  0.        ]\n",
      " [0.06299408 0.         0.10910895 0.         0.10012523 0.12598816\n",
      "  0.0952381  0.06299408 0.0952381  0.         0.28171808 0.\n",
      "  0.12104551 0.         0.         0.24397502 0.         0.06579517\n",
      "  0.12598816]\n",
      " [0.         0.         0.0559017  0.11952286 0.         0.06454972\n",
      "  0.048795   0.         0.048795   0.         0.11547005 0.\n",
      "  0.1860521  0.         0.24397502 0.         0.         0.\n",
      "  0.06454972]\n",
      " [0.18463724 0.09534626 0.05330018 0.05698029 0.         0.\n",
      "  0.04652421 0.         0.         0.         0.05504819 0.07106691\n",
      "  0.         0.         0.         0.         0.         0.\n",
      "  0.        ]\n",
      " [0.         0.06741999 0.         0.         0.06917145 0.\n",
      "  0.13159034 0.08703883 0.         0.         0.15569979 0.\n",
      "  0.         0.         0.06579517 0.         0.         0.\n",
      "  0.        ]\n",
      " [0.         0.         0.07216878 0.         0.         0.08333333\n",
      "  0.06299408 0.         0.06299408 0.         0.1490712  0.\n",
      "  0.08006408 0.         0.12598816 0.06454972 0.         0.\n",
      "  0.        ]]\n"
     ]
    }
   ],
   "source": [
    "# Building Similarity Matrix \n",
    "similarity_matrix = np.zeros((len(sentences), len(sentences)))\n",
    " \n",
    "for idx1 in range(len(sentences)):\n",
    "        for idx2 in range(len(sentences)):\n",
    "             if idx1 == idx2: #ignore if both are same sentences\n",
    "                continue \n",
    "             similarity_matrix[idx1][idx2] = sentence_similarity(sentences[idx1], sentences[idx2])\n",
    "# Display Similarity Matrix\n",
    "print(\"Smilarity matrix \\n\", similarity_matrix)"
   ]
  },
  {
   "cell_type": "markdown",
   "id": "b9f5d97e",
   "metadata": {},
   "source": [
    "<div style=\"color:white;\n",
    "           display:fill;\n",
    "           border-radius:5px;\n",
    "           background-color:#18EAC1;\n",
    "           font-size:110%;\n",
    "           font-family:Verdana;\n",
    "           letter-spacing:0.5px\">\n",
    "\n",
    "<h1 style=\"padding: 10px;\n",
    "              color:white;\">\n",
    "    <center>Ranking Sentences</center>\n",
    "</h1>\n",
    "</div> "
   ]
  },
  {
   "cell_type": "code",
   "execution_count": 89,
   "id": "830e7f1c",
   "metadata": {},
   "outputs": [
    {
     "name": "stdout",
     "output_type": "stream",
     "text": [
      "scores {0: 0.044884840483001384, 1: 0.037916033243438334, 2: 0.05861676877804606, 3: 0.030896994025825675, 4: 0.04922142458769839, 5: 0.06610567101887338, 6: 0.0637985802458304, 7: 0.045378060836934575, 8: 0.05590562428086554, 9: 0.025881864679593893, 10: 0.1096115464241792, 11: 0.025854051691269378, 12: 0.06976623845330684, 13: 0.018195306047150868, 14: 0.09530549561303925, 15: 0.06309604795758925, 16: 0.04839977390686183, 17: 0.04327042320846064, 18: 0.04789525451803493}\n"
     ]
    }
   ],
   "source": [
    "# Construct a graph from the similarity matrix\n",
    "sentence_similarity_graph = nx.from_numpy_array(similarity_matrix)\n",
    "# Calculate scores using PageRank algorithm\n",
    "scores = nx.pagerank(sentence_similarity_graph)\n",
    "print(\"scores\", scores)"
   ]
  },
  {
   "cell_type": "code",
   "execution_count": 90,
   "id": "80a42d7a",
   "metadata": {},
   "outputs": [
    {
     "name": "stdout",
     "output_type": "stream",
     "text": [
      "Indexes of top ranked_sentence order are \n",
      "\n",
      " [(0.1096115464241792, ['addressing', 'biases', 'requires', 'deliberate', 'efforts', 'ensure', 'accountability', 'ai', 'transformative', 'potential', 'ai', 'cannot', 'overstated']), (0.09530549561303925, ['ai', 'technologies', 'optimize', 'crop', 'monitor', 'soil', 'mitigate', 'environmental', 'contributing', 'sustainable', 'farming', 'ai', 'potential', 'tackle', 'pressing', 'climate', 'change', 'healthcare', 'disparities']), (0.06976623845330684, ['ai', 'algorithms', 'analyze', 'market', 'trends', 'financial', 'data', 'inform', 'investment', 'decisions', 'risk', 'management', 'strategies']), (0.06610567101887338, ['automated', 'systems', 'equipped', 'ai', 'algorithms', 'streamlining', 'production', 'optimizing', 'resource', 'improving', 'product', 'quality']), (0.0637985802458304, ['robots', 'perform', 'tasks', 'precision', 'speed', 'unmatched', 'human', 'leading', 'increased', 'efficiency', 'cost', 'savings', 'widespread', 'adoption', 'ai', 'also', 'brings', 'forth', 'challenges', 'ethical', 'dilemmas']), (0.06309604795758925, ['climate', 'scientists', 'use', 'ai', 'models', 'analyze', 'climate', 'predict', 'weather', 'develop', 'strategies', 'climate', 'adaptation', 'mitigation']), (0.05861676877804606, ['rapid', 'evolution', 'reshaping', 'landscape', 'innovation', 'productivity', 'across', 'numerous', 'ai', 'holds', 'immense', 'promise', 'revolutionizing', 'treatment', 'patient', 'care']), (0.05590562428086554, ['ai', 'enhances', 'also', 'raises', 'questions', 'future', 'work', 'need', 'reskilling', 'upskilling', 'workforce', 'adapt', 'technological', 'issue', 'algorithmic', 'bias', 'poses', 'significant', 'hurdle', 'equitable', 'deployment']), (0.04922142458769839, ['capacity', 'enhances', 'medical', 'also', 'offers', 'potential', 'early', 'detection', 'leading', 'better', 'outcomes', 'reduced', 'healthcare', 'robotics', 'driving', 'significant', 'advancements', 'manufacturing', 'processes']), (0.04839977390686183, ['research', 'accelerates', 'drug', 'enables', 'precision', 'facilitates', 'remote', 'patient', 'especially', 'crucial', 'global', 'health', 'crises', 'like', 'artificial', 'intelligence', 'stands', 'transformative', 'force', 'vast', 'implications', 'governance']), (0.04789525451803493, ['navigate', 'imperative', 'foster', 'responsible', 'ai', 'ensuring', 'benefits', 'equitably', 'distributed', 'aligned', 'societal', 'values']), (0.045378060836934575, ['one', 'prominent', 'concern', 'potential', 'job', 'displacement', 'automation', 'replaces', 'human', 'labor', 'various', 'industries']), (0.044884840483001384, ['artificial', 'intelligence', 'emerged', 'one', 'transformative', 'technologies', 'permeating', 'various', 'industries', 'facets', 'everyday', 'life']), (0.04327042320846064, ['presents', 'challenges', 'ethical', 'potential', 'drive', 'improve', 'address', 'complex', 'problems', 'cannot', 'ignored']), (0.037916033243438334, ['influence', 'ranges', 'virtual', 'assistants', 'like', 'siri', 'become', 'ubiquitous', 'households', 'complex', 'recommendation', 'systems', 'streaming', 'platforms', 'like', 'shaping', 'entertainment', 'choices']), (0.030896994025825675, ['machine', 'learning', 'trained', 'vast', 'amounts', 'medical', 'analyze', 'predict', 'disease', 'even', 'recommend', 'personalized', 'treatment', 'regimens']), (0.025881864679593893, ['biases', 'embedded', 'training', 'data', 'algorithmic', 'processes', 'perpetuate', 'exacerbating', 'social', 'inequalities']), (0.025854051691269378, ['applications', 'extend', 'beyond', 'traditional', 'fields', 'like', 'agriculture', 'benefiting', 'innovations']), (0.018195306047150868, ['autonomous', 'powered', 'promise', 'revolutionize', 'transportation', 'improving', 'road', 'safety', 'reducing', 'congestion'])]\n"
     ]
    }
   ],
   "source": [
    "# Sort the Rank and Pick Top Sentences\n",
    "ranked_sentence = sorted(((scores[i],s) for i,s in enumerate(sentences)), reverse=True)    \n",
    "print(\"Indexes of top ranked_sentence order are \\n\\n\", ranked_sentence)"
   ]
  },
  {
   "cell_type": "markdown",
   "id": "56c15ae9",
   "metadata": {},
   "source": [
    "<div style=\"color:white;\n",
    "           display:fill;\n",
    "           border-radius:5px;\n",
    "           background-color:#18EAC1;\n",
    "           font-size:110%;\n",
    "           font-family:Verdana;\n",
    "           letter-spacing:0.5px\">\n",
    "\n",
    "<h1 style=\"padding: 10px;\n",
    "              color:white;\">\n",
    "    <center>Generating Summary</center>\n",
    "</h1>\n",
    "</div> "
   ]
  },
  {
   "cell_type": "code",
   "execution_count": 91,
   "id": "2dd52038",
   "metadata": {},
   "outputs": [
    {
     "name": "stdout",
     "output_type": "stream",
     "text": [
      "How many sentences do you want in the summary? 6\n"
     ]
    }
   ],
   "source": [
    "# Select Number of Sentences for Summary\n",
    "n = int(input(\"How many sentences do you want in the summary? \"))\n",
    "summarize_text = []\n",
    "for i in range(n):\n",
    "      summarize_text.append(\" \".join(ranked_sentence[i][1]))"
   ]
  },
  {
   "cell_type": "code",
   "execution_count": 92,
   "id": "6f1658d2",
   "metadata": {},
   "outputs": [
    {
     "name": "stdout",
     "output_type": "stream",
     "text": [
      "Summarize Text: \n",
      " addressing biases requires deliberate efforts ensure accountability ai transformative potential ai cannot overstated. ai technologies optimize crop monitor soil mitigate environmental contributing sustainable farming ai potential tackle pressing climate change healthcare disparities. ai algorithms analyze market trends financial data inform investment decisions risk management strategies. automated systems equipped ai algorithms streamlining production optimizing resource improving product quality. robots perform tasks precision speed unmatched human leading increased efficiency cost savings widespread adoption ai also brings forth challenges ethical dilemmas. climate scientists use ai models analyze climate predict weather develop strategies climate adaptation mitigation\n"
     ]
    }
   ],
   "source": [
    "# Output the Summarized Text\n",
    "print(\"Summarize Text: \\n\", \". \".join(summarize_text))\n"
   ]
  },
  {
   "cell_type": "code",
   "execution_count": 93,
   "id": "023373fd",
   "metadata": {},
   "outputs": [],
   "source": [
    "# The code employs cosine similarity and PageRank algorithm for text summarization. It preprocesses text, calculates sentence similarity, and ranks sentences based on importance. Users input the desired number of sentences for the summary. The code generates a concise summary by selecting the top-ranked sentences. This method efficiently condenses text while preserving essential content, offering an automated summarization solution."
   ]
  }
 ],
 "metadata": {
  "kernelspec": {
   "display_name": "Python 3 (ipykernel)",
   "language": "python",
   "name": "python3"
  },
  "language_info": {
   "codemirror_mode": {
    "name": "ipython",
    "version": 3
   },
   "file_extension": ".py",
   "mimetype": "text/x-python",
   "name": "python",
   "nbconvert_exporter": "python",
   "pygments_lexer": "ipython3",
   "version": "3.11.5"
  }
 },
 "nbformat": 4,
 "nbformat_minor": 5
}
